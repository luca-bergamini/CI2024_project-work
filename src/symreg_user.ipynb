{
 "cells": [
  {
   "cell_type": "markdown",
   "metadata": {},
   "source": [
    "Copyright **`(c)`** 2024 Giovanni Squillero `<giovanni.squillero@polito.it>`  \n",
    "[`https://github.com/squillero/computational-intelligence`](https://github.com/squillero/computational-intelligence)  \n",
    "Free under certain conditions — see the [`license`](https://github.com/squillero/computational-intelligence/blob/master/LICENSE.md) for details.  "
   ]
  },
  {
   "cell_type": "markdown",
   "metadata": {},
   "source": [
    "### Importing libraries"
   ]
  },
  {
   "cell_type": "code",
   "execution_count": 35,
   "metadata": {},
   "outputs": [],
   "source": [
    "import numpy as np\n",
    "from tqdm.auto import tqdm\n",
    "import random\n",
    "import matplotlib.pyplot as plt"
   ]
  },
  {
   "cell_type": "markdown",
   "metadata": {},
   "source": [
    "### Utility functions"
   ]
  },
  {
   "cell_type": "code",
   "execution_count": 36,
   "metadata": {},
   "outputs": [],
   "source": [
    "def add(a, b):\n",
    "    return a + b\n",
    "\n",
    "def sub(a, b):\n",
    "    return a - b\n",
    "\n",
    "def mul(a, b):\n",
    "    return a * b\n",
    "\n",
    "def div(a, b):\n",
    "    return a / (b + 1e-50)  # we added that to avoid zero division\n",
    "\n",
    "def log(a):\n",
    "    return np.log(np.abs(a) + 1e-50)  # we added that to avoid zero log\n",
    "\n",
    "def sqrt(a):\n",
    "    return np.sqrt(np.abs(a))  # we added that to avoid negative square root\n",
    "\n",
    "def sin(a):\n",
    "    return np.sin(a)\n",
    "\n",
    "def cos(a):\n",
    "    return np.cos(a)\n",
    "\n",
    "def abs(a):\n",
    "    return np.abs(a)"
   ]
  },
  {
   "cell_type": "code",
   "execution_count": 37,
   "metadata": {},
   "outputs": [],
   "source": [
    "class Node:\n",
    "    def __init__(self, value, children=None):\n",
    "        self.value = value  # operator or terminal\n",
    "        self.children = children or []  # child nodes\n",
    "\n",
    "    def is_terminal(self):\n",
    "        return len(self.children) == 0\n",
    "\n",
    "    def __str__(self):\n",
    "        if callable(self.value):\n",
    "            return f\"{self.value.__name__}({', '.join(map(str, self.children))})\"\n",
    "        return str(self.value)\n",
    "\n",
    "    def depth(self):\n",
    "        if self.is_terminal():\n",
    "            return 0  # terminal node has depth 0\n",
    "        return 1 + max(child.depth() for child in self.children)"
   ]
  },
  {
   "cell_type": "code",
   "execution_count": 38,
   "metadata": {},
   "outputs": [],
   "source": [
    "def generate_random_tree(max_depth, terminals, functions):\n",
    "    if max_depth == 0 or (random.random() < 0.5):  # terminal node\n",
    "        value = random.choice(terminals)\n",
    "        if value == 'const':  # return a random constant from -100 to 100\n",
    "            return Node(np.random.randint(-100, 100))\n",
    "        return Node(value)\n",
    "    else:  # function node\n",
    "        func, arity = random.choice(list(functions.values()))\n",
    "        children = [generate_random_tree(max_depth - 1, terminals, functions) for _ in range(arity)]\n",
    "        return Node(func, children)"
   ]
  },
  {
   "cell_type": "code",
   "execution_count": 39,
   "metadata": {},
   "outputs": [],
   "source": [
    "def evaluate_tree(tree, X):\n",
    "    if tree.is_terminal():\n",
    "        # if it's a constant\n",
    "        if isinstance(tree.value, (int, float)):  \n",
    "            return np.full(X.shape[1], tree.value)  # return constant value for all samples\n",
    "        # if it's a variable\n",
    "        elif tree.value.startswith('x'):\n",
    "            col_idx = int(tree.value[1:])   # converting x1 -> index 0, x2 -> index 1\n",
    "            return X[col_idx, :] # return the corresponding feature for all samples\n",
    "    else:\n",
    "        # handle function node (apply function to children)\n",
    "        func = tree.value\n",
    "        args = [evaluate_tree(child, X) for child in tree.children]\n",
    "        return func(*args) # ensure all arguments have the same shape"
   ]
  },
  {
   "cell_type": "code",
   "execution_count": 40,
   "metadata": {},
   "outputs": [],
   "source": [
    "def fitness(tree, X, y):\n",
    "    predictions = evaluate_tree(tree, X)\n",
    "    return np.mean((predictions - y) ** 2)"
   ]
  },
  {
   "cell_type": "code",
   "execution_count": 41,
   "metadata": {},
   "outputs": [],
   "source": [
    "def crossover(parent1, parent2, max_depth):\n",
    "    def select_random_subtree(node):\n",
    "        if not node.children or random.random() < 0.5:  # 50% chance to pick the current node\n",
    "            return node\n",
    "        return select_random_subtree(random.choice(node.children))\n",
    "\n",
    "    if parent1.is_terminal() or parent2.is_terminal():\n",
    "        return select_random_subtree(parent2)\n",
    "\n",
    "    if random.random() < 0.5:  # 50% chance to swap subtrees\n",
    "        return select_random_subtree(parent2)\n",
    "\n",
    "    # applying crossover recursively on children\n",
    "    new_children = []\n",
    "    for child in parent1.children:\n",
    "        new_children.append(crossover(child, parent2, max_depth))\n",
    "\n",
    "    new_tree = Node(parent1.value, new_children)\n",
    "\n",
    "    # enforce depth constraint\n",
    "    if new_tree.depth() > max_depth:\n",
    "        return parent1  # return parent1 if depth exceeds max_depth, otherwise return new_tree\n",
    "\n",
    "    return new_tree\n",
    "\n",
    "def subtree_mutation(tree, max_depth, terminals, functions):\n",
    "    if random.random() < 0.1 or tree.is_terminal() or max_depth == 0:  # replace subtree\n",
    "        return generate_random_tree(max_depth, terminals, functions)\n",
    "\n",
    "    new_tree = Node(tree.value, [subtree_mutation(child, max_depth - 1, terminals, functions) for child in tree.children])\n",
    "    if(new_tree.depth() > max_depth):\n",
    "        return tree\n",
    "\n",
    "    return new_tree\n",
    "\n",
    "def hoist_mutation(tree, max_depth):\n",
    "    if tree.is_terminal() or max_depth == 0: # terminal nodes remain unchanged\n",
    "        return tree\n",
    "\n",
    "    # selecting a random subtree\n",
    "    selected_subtree = random.choice(tree.children)\n",
    "    if random.random() < 0.7 or selected_subtree.is_terminal():  # hoist this subtree\n",
    "        return selected_subtree\n",
    "\n",
    "    # recursively applying hoist mutation to children\n",
    "    return Node(tree.value, [hoist_mutation(child, max_depth - 1) for child in tree.children])\n",
    "\n",
    "def point_mutation(tree, terminals, functions):\n",
    "    if random.random() < 0.2 or tree.is_terminal():\n",
    "        if tree.is_terminal():\n",
    "            # replace terminal with another random terminal\n",
    "            new_value = random.choice(terminals)\n",
    "\n",
    "            if new_value == 'const':  # generate a random constant if needed\n",
    "                return Node(np.random.randint(-100, 100))\n",
    "\n",
    "            return Node(new_value)\n",
    "        else:\n",
    "            # replace function with another function of the same arity\n",
    "            func, arity = random.choice([f for f in functions.values() if len(tree.children) == f[1]])\n",
    "            return Node(func, tree.children)  # keeping the same children as before\n",
    "\n",
    "    # recursively applying point mutation to children\n",
    "    return Node(tree.value, [point_mutation(child, terminals, functions) for child in tree.children])\n",
    "\n",
    "def collapse_mutation(tree, terminals):\n",
    "    if tree.is_terminal():  # terminal nodes remain unchanged\n",
    "        return tree\n",
    "\n",
    "    if random.random() < 0.3:  # 30% chance to collapse this subtree into a terminal\n",
    "        new_value = random.choice(terminals)\n",
    "\n",
    "        if new_value == 'const':  # generate a random constant if needed\n",
    "            return Node(np.random.randint(-100, 100))\n",
    "\n",
    "        return Node(new_value)\n",
    "\n",
    "    # recursively applying collapse mutation to children\n",
    "    return Node(tree.value, [collapse_mutation(child, terminals) for child in tree.children])\n",
    "\n",
    "def mutate(tree, max_depth, terminals, functions):\n",
    "    # defining the probabilities for each mutation type\n",
    "    mutation_probs = {\n",
    "        \"subtree\": 0.6,  # subtree mutation\n",
    "        \"point\": 0.2,    # point mutation\n",
    "        \"hoist\": 0.1,    # hoist mutation\n",
    "        \"collapse\" : 0.1    # collapse mutation\n",
    "    }\n",
    "\n",
    "    # selecting the mutation type based on weighted probability\n",
    "    mutation_type = random.choices(\n",
    "        list(mutation_probs.keys()),\n",
    "        weights=list(mutation_probs.values()),\n",
    "        k=1\n",
    "    )[0]\n",
    "\n",
    "    # applying the selected mutation type\n",
    "    if mutation_type == \"subtree\":\n",
    "        return subtree_mutation(tree, max_depth, terminals, functions)\n",
    "    elif mutation_type == \"point\":\n",
    "        return point_mutation(tree, terminals, functions)\n",
    "    elif mutation_type == \"hoist\":\n",
    "        return hoist_mutation(tree, max_depth)\n",
    "    elif mutation_type == \"collapse\":\n",
    "        return collapse_mutation(tree,terminals)"
   ]
  },
  {
   "cell_type": "markdown",
   "metadata": {},
   "source": [
    "### Main algorithm"
   ]
  },
  {
   "cell_type": "code",
   "execution_count": 42,
   "metadata": {},
   "outputs": [],
   "source": [
    "def evolve(X, y, terminals, functions, population_size, max_depth, num_generations):\n",
    "    # initializing the population with \"population_size\" random trees\n",
    "    population = [generate_random_tree(2, terminals, functions) for _ in range(population_size)]\n",
    "\n",
    "    best_fitness = float('inf') \n",
    "    generation = 0\n",
    "\n",
    "    for generation in range(num_generations):\n",
    "        if best_fitness == 0:\n",
    "            break\n",
    "        # evaluating the fitness for each tree in the population\n",
    "        fitness_scores = np.array([fitness(tree, X, y) for tree in population])\n",
    "        # taking the index of the best fitness_score\n",
    "        best_idx = np.argmin(fitness_scores)\n",
    "        current_best_tree, current_best_score = population[best_idx], fitness_scores[best_idx]\n",
    "        current_best_depth = current_best_tree.depth()\n",
    "\n",
    "        print(f\"Generation {generation}, Best Fitness: {current_best_score}, Depth: {current_best_depth}\")\n",
    "\n",
    "        #updating the best fitness and the best tree\n",
    "        if current_best_score < best_fitness:\n",
    "            best_fitness = current_best_score\n",
    "            best_tree = current_best_tree\n",
    "\n",
    "        # keeping the top 20% of the population (elitism)\n",
    "        sorted_population = [tree for _, tree in sorted(zip(fitness_scores, population), key=lambda x: x[0])]\n",
    "        next_population = sorted_population[:population_size // 5]\n",
    "\n",
    "        # generating the offspring, doing crossover or mutation\n",
    "        while len(next_population) < population_size:\n",
    "            if random.random() < 0.5: # 50% chance to perform crossover\n",
    "                parents = random.sample(population, 2)\n",
    "                child = crossover(parents[0], parents[1], max_depth)\n",
    "            else:  # 50% chance to perform mutation\n",
    "                parent = random.choice(population)\n",
    "                child = mutate(parent, max_depth, terminals, functions)\n",
    "            next_population.append(child)\n",
    "\n",
    "        population = next_population\n",
    "\n",
    "    print(f\"Evolution completed after {generation} generations with best fitness: {best_fitness}\")\n",
    "    # returning the best tree\n",
    "    return best_tree"
   ]
  },
  {
   "cell_type": "markdown",
   "metadata": {},
   "source": [
    "### To convert tree to numpy"
   ]
  },
  {
   "cell_type": "code",
   "execution_count": 43,
   "metadata": {},
   "outputs": [],
   "source": [
    "def tree_to_numpy(node):\n",
    "    if node.is_terminal():\n",
    "        # returning the variable or constant directly\n",
    "        return str(node.value)\n",
    "\n",
    "    # function case: Construct the string representation\n",
    "    func = node.value  # e.g., \"add\", \"mul\"\n",
    "    children_expr = [tree_to_numpy(child) for child in node.children]\n",
    "\n",
    "    # function names to the equivalent NumPy functions\n",
    "    numpy_func_map = {\n",
    "        add: 'np.add',\n",
    "        sub: 'np.subtract',\n",
    "        mul: 'np.multiply',\n",
    "        div: 'np.divide',\n",
    "        sin: 'np.sin',\n",
    "        cos: 'np.cos',\n",
    "        log: 'np.log',\n",
    "        sqrt: 'np.sqrt',\n",
    "        abs: 'np.abs'\n",
    "    }\n",
    "\n",
    "    # generating the NumPy-compatible string\n",
    "    if func in numpy_func_map:\n",
    "        if len(children_expr) == 2:  # binary operator\n",
    "            return f\"{numpy_func_map[func]}({children_expr[0]}, {children_expr[1]})\"\n",
    "        elif len(children_expr) == 1:  # unary operator\n",
    "            return f\"{numpy_func_map[func]}({children_expr[0]})\"\n",
    "        else:\n",
    "            raise ValueError(\"Function arity does not match the tree structure.\")\n",
    "    else:\n",
    "        raise ValueError(f\"Unsupported function: {func}\")"
   ]
  },
  {
   "cell_type": "markdown",
   "metadata": {},
   "source": [
    "### To execute the code"
   ]
  },
  {
   "cell_type": "code",
   "execution_count": 44,
   "metadata": {},
   "outputs": [
    {
     "name": "stdout",
     "output_type": "stream",
     "text": [
      "(1, 500) (500,)\n",
      "['x0', 'const']\n",
      "Generation 0, Best Fitness: 0.0, Depth: 1\n",
      "Evolution completed after 1 generations with best fitness: 0.0\n",
      "Best Formula: sin(x0)\n",
      "Training MSE: 0.0\n"
     ]
    }
   ],
   "source": [
    "problem = np.load('../data/problem_1.npz')\n",
    "x= problem['x']\n",
    "y = problem['y']\n",
    "print(x.shape, y.shape)\n",
    "\n",
    "# defining function_set with function names and their arity\n",
    "function_set = {\n",
    "    'add': (add, 2),\n",
    "    'substract': (sub, 2),\n",
    "    'multiply': (mul, 2),\n",
    "    'divide': (div, 2),\n",
    "    'sin': (sin, 1),\n",
    "    'cos': (cos, 1),\n",
    "    'log': (log, 1),\n",
    "    'sqrt': (sqrt, 1),\n",
    "    'abs': (abs, 1),\n",
    "}\n",
    "\n",
    "num_vars = x.shape[0] \n",
    "terminals = [f'x{i}' for i in range(num_vars)] \n",
    "terminals.append('const')\n",
    "print(terminals)\n",
    "\n",
    "best_tree = evolve(x, y, terminals, function_set, population_size=1_000_000, max_depth=5, num_generations=50)\n",
    "\n",
    "# displaying the best formula\n",
    "print(\"Best Formula:\", best_tree)\n",
    "\n",
    "# evaluating on training set\n",
    "mse_train = np.mean((y - evaluate_tree(best_tree, x)) ** 2)\n",
    "print(\"Training MSE:\", mse_train)"
   ]
  },
  {
   "cell_type": "code",
   "execution_count": 45,
   "metadata": {},
   "outputs": [
    {
     "name": "stdout",
     "output_type": "stream",
     "text": [
      "np.sin(x0)\n"
     ]
    }
   ],
   "source": [
    "# printing the numpy version of the tree\n",
    "print(tree_to_numpy(best_tree))"
   ]
  }
 ],
 "metadata": {
  "kernelspec": {
   "display_name": ".venv",
   "language": "python",
   "name": "python3"
  },
  "language_info": {
   "codemirror_mode": {
    "name": "ipython",
    "version": 3
   },
   "file_extension": ".py",
   "mimetype": "text/x-python",
   "name": "python",
   "nbconvert_exporter": "python",
   "pygments_lexer": "ipython3",
   "version": "3.13.1"
  }
 },
 "nbformat": 4,
 "nbformat_minor": 2
}
